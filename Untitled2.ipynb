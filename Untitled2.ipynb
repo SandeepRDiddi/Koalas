{
  "nbformat": 4,
  "nbformat_minor": 0,
  "metadata": {
    "colab": {
      "name": "Untitled2.ipynb",
      "provenance": [],
      "authorship_tag": "ABX9TyM8T1EADVad1BHIEKDxwjU+",
      "include_colab_link": true
    },
    "kernelspec": {
      "name": "python3",
      "display_name": "Python 3"
    }
  },
  "cells": [
    {
      "cell_type": "markdown",
      "metadata": {
        "id": "view-in-github",
        "colab_type": "text"
      },
      "source": [
        "<a href=\"https://colab.research.google.com/github/SandeepRDiddi/Koalas/blob/master/Untitled2.ipynb\" target=\"_parent\"><img src=\"https://colab.research.google.com/assets/colab-badge.svg\" alt=\"Open In Colab\"/></a>"
      ]
    },
    {
      "cell_type": "code",
      "metadata": {
        "id": "9BCkPoA6IUC_",
        "colab_type": "code",
        "colab": {
          "base_uri": "https://localhost:8080/",
          "height": 548
        },
        "outputId": "e1b0d719-016b-4b02-bd2e-7d922ede87b1"
      },
      "source": [
        "#Install Koalas\n",
        "\n",
        "#In case of pyarrow error \n",
        "\n",
        "#!pip uninstall pyarrow -y\n",
        "#!pip install pyarrow\n",
        "\n",
        "!pip3 install koalas\n",
        "\n",
        "!pip install pyarrow==0.15.1"
      ],
      "execution_count": 1,
      "outputs": [
        {
          "output_type": "stream",
          "text": [
            "Collecting koalas\n",
            "\u001b[?25l  Downloading https://files.pythonhosted.org/packages/50/b6/86413b835482398002b0609c337113e61998c00e3b0183b8adfaba9c56ee/koalas-1.0.1-py3-none-any.whl (691kB)\n",
            "\r\u001b[K     |▌                               | 10kB 3.8MB/s eta 0:00:01\r\u001b[K     |█                               | 20kB 1.4MB/s eta 0:00:01\r\u001b[K     |█▍                              | 30kB 1.8MB/s eta 0:00:01\r\u001b[K     |██                              | 40kB 1.5MB/s eta 0:00:01\r\u001b[K     |██▍                             | 51kB 1.8MB/s eta 0:00:01\r\u001b[K     |██▉                             | 61kB 2.1MB/s eta 0:00:01\r\u001b[K     |███▎                            | 71kB 2.3MB/s eta 0:00:01\r\u001b[K     |███▉                            | 81kB 2.5MB/s eta 0:00:01\r\u001b[K     |████▎                           | 92kB 2.7MB/s eta 0:00:01\r\u001b[K     |████▊                           | 102kB 2.6MB/s eta 0:00:01\r\u001b[K     |█████▏                          | 112kB 2.6MB/s eta 0:00:01\r\u001b[K     |█████▊                          | 122kB 2.6MB/s eta 0:00:01\r\u001b[K     |██████▏                         | 133kB 2.6MB/s eta 0:00:01\r\u001b[K     |██████▋                         | 143kB 2.6MB/s eta 0:00:01\r\u001b[K     |███████                         | 153kB 2.6MB/s eta 0:00:01\r\u001b[K     |███████▋                        | 163kB 2.6MB/s eta 0:00:01\r\u001b[K     |████████                        | 174kB 2.6MB/s eta 0:00:01\r\u001b[K     |████████▌                       | 184kB 2.6MB/s eta 0:00:01\r\u001b[K     |█████████                       | 194kB 2.6MB/s eta 0:00:01\r\u001b[K     |█████████▌                      | 204kB 2.6MB/s eta 0:00:01\r\u001b[K     |██████████                      | 215kB 2.6MB/s eta 0:00:01\r\u001b[K     |██████████▍                     | 225kB 2.6MB/s eta 0:00:01\r\u001b[K     |███████████                     | 235kB 2.6MB/s eta 0:00:01\r\u001b[K     |███████████▍                    | 245kB 2.6MB/s eta 0:00:01\r\u001b[K     |███████████▉                    | 256kB 2.6MB/s eta 0:00:01\r\u001b[K     |████████████▎                   | 266kB 2.6MB/s eta 0:00:01\r\u001b[K     |████████████▉                   | 276kB 2.6MB/s eta 0:00:01\r\u001b[K     |█████████████▎                  | 286kB 2.6MB/s eta 0:00:01\r\u001b[K     |█████████████▊                  | 296kB 2.6MB/s eta 0:00:01\r\u001b[K     |██████████████▏                 | 307kB 2.6MB/s eta 0:00:01\r\u001b[K     |██████████████▊                 | 317kB 2.6MB/s eta 0:00:01\r\u001b[K     |███████████████▏                | 327kB 2.6MB/s eta 0:00:01\r\u001b[K     |███████████████▋                | 337kB 2.6MB/s eta 0:00:01\r\u001b[K     |████████████████                | 348kB 2.6MB/s eta 0:00:01\r\u001b[K     |████████████████▋               | 358kB 2.6MB/s eta 0:00:01\r\u001b[K     |█████████████████               | 368kB 2.6MB/s eta 0:00:01\r\u001b[K     |█████████████████▌              | 378kB 2.6MB/s eta 0:00:01\r\u001b[K     |██████████████████              | 389kB 2.6MB/s eta 0:00:01\r\u001b[K     |██████████████████▌             | 399kB 2.6MB/s eta 0:00:01\r\u001b[K     |███████████████████             | 409kB 2.6MB/s eta 0:00:01\r\u001b[K     |███████████████████▍            | 419kB 2.6MB/s eta 0:00:01\r\u001b[K     |████████████████████            | 430kB 2.6MB/s eta 0:00:01\r\u001b[K     |████████████████████▍           | 440kB 2.6MB/s eta 0:00:01\r\u001b[K     |████████████████████▉           | 450kB 2.6MB/s eta 0:00:01\r\u001b[K     |█████████████████████▎          | 460kB 2.6MB/s eta 0:00:01\r\u001b[K     |█████████████████████▉          | 471kB 2.6MB/s eta 0:00:01\r\u001b[K     |██████████████████████▎         | 481kB 2.6MB/s eta 0:00:01\r\u001b[K     |██████████████████████▊         | 491kB 2.6MB/s eta 0:00:01\r\u001b[K     |███████████████████████▏        | 501kB 2.6MB/s eta 0:00:01\r\u001b[K     |███████████████████████▊        | 512kB 2.6MB/s eta 0:00:01\r\u001b[K     |████████████████████████▏       | 522kB 2.6MB/s eta 0:00:01\r\u001b[K     |████████████████████████▋       | 532kB 2.6MB/s eta 0:00:01\r\u001b[K     |█████████████████████████       | 542kB 2.6MB/s eta 0:00:01\r\u001b[K     |█████████████████████████▋      | 552kB 2.6MB/s eta 0:00:01\r\u001b[K     |██████████████████████████      | 563kB 2.6MB/s eta 0:00:01\r\u001b[K     |██████████████████████████▌     | 573kB 2.6MB/s eta 0:00:01\r\u001b[K     |███████████████████████████     | 583kB 2.6MB/s eta 0:00:01\r\u001b[K     |███████████████████████████▌    | 593kB 2.6MB/s eta 0:00:01\r\u001b[K     |████████████████████████████    | 604kB 2.6MB/s eta 0:00:01\r\u001b[K     |████████████████████████████▍   | 614kB 2.6MB/s eta 0:00:01\r\u001b[K     |█████████████████████████████   | 624kB 2.6MB/s eta 0:00:01\r\u001b[K     |█████████████████████████████▍  | 634kB 2.6MB/s eta 0:00:01\r\u001b[K     |█████████████████████████████▉  | 645kB 2.6MB/s eta 0:00:01\r\u001b[K     |██████████████████████████████▎ | 655kB 2.6MB/s eta 0:00:01\r\u001b[K     |██████████████████████████████▉ | 665kB 2.6MB/s eta 0:00:01\r\u001b[K     |███████████████████████████████▎| 675kB 2.6MB/s eta 0:00:01\r\u001b[K     |███████████████████████████████▊| 686kB 2.6MB/s eta 0:00:01\r\u001b[K     |████████████████████████████████| 696kB 2.6MB/s \n",
            "\u001b[?25hRequirement already satisfied: pandas>=0.23.2 in /usr/local/lib/python3.6/dist-packages (from koalas) (1.0.5)\n",
            "Requirement already satisfied: pyarrow>=0.10 in /usr/local/lib/python3.6/dist-packages (from koalas) (0.14.1)\n",
            "Requirement already satisfied: matplotlib>=3.0.0 in /usr/local/lib/python3.6/dist-packages (from koalas) (3.2.2)\n",
            "Requirement already satisfied: numpy>=1.14 in /usr/local/lib/python3.6/dist-packages (from koalas) (1.18.5)\n",
            "Requirement already satisfied: python-dateutil>=2.6.1 in /usr/local/lib/python3.6/dist-packages (from pandas>=0.23.2->koalas) (2.8.1)\n",
            "Requirement already satisfied: pytz>=2017.2 in /usr/local/lib/python3.6/dist-packages (from pandas>=0.23.2->koalas) (2018.9)\n",
            "Requirement already satisfied: six>=1.0.0 in /usr/local/lib/python3.6/dist-packages (from pyarrow>=0.10->koalas) (1.12.0)\n",
            "Requirement already satisfied: pyparsing!=2.0.4,!=2.1.2,!=2.1.6,>=2.0.1 in /usr/local/lib/python3.6/dist-packages (from matplotlib>=3.0.0->koalas) (2.4.7)\n",
            "Requirement already satisfied: kiwisolver>=1.0.1 in /usr/local/lib/python3.6/dist-packages (from matplotlib>=3.0.0->koalas) (1.2.0)\n",
            "Requirement already satisfied: cycler>=0.10 in /usr/local/lib/python3.6/dist-packages (from matplotlib>=3.0.0->koalas) (0.10.0)\n",
            "Installing collected packages: koalas\n",
            "Successfully installed koalas-1.0.1\n",
            "Collecting pyarrow==0.15.1\n",
            "\u001b[?25l  Downloading https://files.pythonhosted.org/packages/6c/32/ce1926f05679ea5448fd3b98fbd9419d8c7a65f87d1a12ee5fb9577e3a8e/pyarrow-0.15.1-cp36-cp36m-manylinux2010_x86_64.whl (59.2MB)\n",
            "\u001b[K     |████████████████████████████████| 59.2MB 63kB/s \n",
            "\u001b[?25hRequirement already satisfied: six>=1.0.0 in /usr/local/lib/python3.6/dist-packages (from pyarrow==0.15.1) (1.12.0)\n",
            "Requirement already satisfied: numpy>=1.14 in /usr/local/lib/python3.6/dist-packages (from pyarrow==0.15.1) (1.18.5)\n",
            "Installing collected packages: pyarrow\n",
            "  Found existing installation: pyarrow 0.14.1\n",
            "    Uninstalling pyarrow-0.14.1:\n",
            "      Successfully uninstalled pyarrow-0.14.1\n",
            "Successfully installed pyarrow-0.15.1\n"
          ],
          "name": "stdout"
        },
        {
          "output_type": "display_data",
          "data": {
            "application/vnd.colab-display-data+json": {
              "pip_warning": {
                "packages": [
                  "pyarrow"
                ]
              }
            }
          },
          "metadata": {
            "tags": []
          }
        }
      ]
    },
    {
      "cell_type": "code",
      "metadata": {
        "id": "q_sdP_I0I7Nl",
        "colab_type": "code",
        "colab": {}
      },
      "source": [
        "!apt-get install openjdk-8-jdk-headless -qq > /dev/null\n",
        "!wget -q https://downloads.apache.org/spark/spark-3.0.0-preview2/spark-3.0.0-preview2-bin-hadoop2.7.tgz\n",
        "!tar xf spark-3.0.0-preview2-bin-hadoop2.7.tgz\n",
        "!pip install -q findspark"
      ],
      "execution_count": 2,
      "outputs": []
    },
    {
      "cell_type": "code",
      "metadata": {
        "id": "mjtsDSXgJO7e",
        "colab_type": "code",
        "colab": {
          "base_uri": "https://localhost:8080/",
          "height": 51
        },
        "outputId": "d4256cfb-2a3d-41e2-f03e-763278be3042"
      },
      "source": [
        "!ls /usr/lib/jvm/"
      ],
      "execution_count": 2,
      "outputs": [
        {
          "output_type": "stream",
          "text": [
            "default-java\t\t   java-11-openjdk-amd64     java-8-openjdk-amd64\n",
            "java-1.11.0-openjdk-amd64  java-1.8.0-openjdk-amd64\n"
          ],
          "name": "stdout"
        }
      ]
    },
    {
      "cell_type": "code",
      "metadata": {
        "id": "oAHlTVD-JgVj",
        "colab_type": "code",
        "colab": {}
      },
      "source": [
        "import os\n",
        "os.environ[\"JAVA_HOME\"] = \"/usr/lib/jvm/java-8-openjdk-amd64\"\n",
        "os.environ[\"SPARK_HOME\"] = \"/content/spark-3.0.0-preview2-bin-hadoop2.7\"\n",
        "\n",
        "import findspark\n",
        "findspark.init()\n",
        "from pyspark.sql import SparkSession\n",
        "spark = SparkSession.builder.master(\"local[*]\").getOrCreate()\n",
        "\n",
        "import sys,tempfile, urllib\n",
        "from pyspark.sql.functions import *"
      ],
      "execution_count": 3,
      "outputs": []
    },
    {
      "cell_type": "code",
      "metadata": {
        "id": "dhTqRrb_Jkq6",
        "colab_type": "code",
        "colab": {
          "base_uri": "https://localhost:8080/",
          "height": 102
        },
        "outputId": "c5375ea0-ba18-4080-97a6-90d61386153c"
      },
      "source": [
        "\n",
        "BASE_DIR = '/tmp'\n",
        "CORONA_DATA_FILE = os.path.join(BASE_DIR, 'corona_data.csv')\n",
        "\n",
        "corona_data=urllib.request.urlretrieve('https://raw.githubusercontent.com/srivatsan88/YouTubeLI/master/dataset/coronavirus/corona_dataset_latest.csv', CORONA_DATA_FILE)\n",
        "\n",
        "!ls /tmp"
      ],
      "execution_count": 4,
      "outputs": [
        {
          "output_type": "stream",
          "text": [
            "blockmgr-9809fdcc-a601-4c70-827c-d182cfa1cc90\n",
            "corona_data.csv\n",
            "hsperfdata_root\n",
            "spark-81e904fe-bc2f-44d8-9b80-bd279b6a81e2\n",
            "spark-8bd360fa-6cc5-445d-9619-cfd8a157d6c8\n"
          ],
          "name": "stdout"
        }
      ]
    },
    {
      "cell_type": "code",
      "metadata": {
        "id": "5eihmNm8JoT6",
        "colab_type": "code",
        "colab": {}
      },
      "source": [
        "import databricks.koalas as ks"
      ],
      "execution_count": 6,
      "outputs": []
    },
    {
      "cell_type": "code",
      "metadata": {
        "id": "LmRWOxzEJ6ET",
        "colab_type": "code",
        "colab": {}
      },
      "source": [
        "df=ks.read_csv(\"/tmp/corona_data.csv\")"
      ],
      "execution_count": 7,
      "outputs": []
    },
    {
      "cell_type": "code",
      "metadata": {
        "id": "sr9-VRCwKUzU",
        "colab_type": "code",
        "colab": {
          "base_uri": "https://localhost:8080/",
          "height": 221
        },
        "outputId": "8141e620-1b07-443d-a4fd-b7e8c0916b32"
      },
      "source": [
        "df.count()"
      ],
      "execution_count": 8,
      "outputs": [
        {
          "output_type": "execute_result",
          "data": {
            "text/plain": [
              "_c0              28143\n",
              "State            19116\n",
              "Country          28143\n",
              "Lat              28143\n",
              "Long             28143\n",
              "Date             28143\n",
              "Confirmed        28143\n",
              "Death            28143\n",
              "Recovered        28143\n",
              "state_cleaned    28143\n",
              "City             14573\n",
              "Name: 0, dtype: int64"
            ]
          },
          "metadata": {
            "tags": []
          },
          "execution_count": 8
        }
      ]
    },
    {
      "cell_type": "code",
      "metadata": {
        "id": "e8UIWt0rKYSb",
        "colab_type": "code",
        "colab": {
          "base_uri": "https://localhost:8080/",
          "height": 204
        },
        "outputId": "cf754e4d-04c5-4a48-d136-1503b37f1299"
      },
      "source": [
        "df.head(5)"
      ],
      "execution_count": 9,
      "outputs": [
        {
          "output_type": "execute_result",
          "data": {
            "text/html": [
              "<div>\n",
              "<style scoped>\n",
              "    .dataframe tbody tr th:only-of-type {\n",
              "        vertical-align: middle;\n",
              "    }\n",
              "\n",
              "    .dataframe tbody tr th {\n",
              "        vertical-align: top;\n",
              "    }\n",
              "\n",
              "    .dataframe thead th {\n",
              "        text-align: right;\n",
              "    }\n",
              "</style>\n",
              "<table border=\"1\" class=\"dataframe\">\n",
              "  <thead>\n",
              "    <tr style=\"text-align: right;\">\n",
              "      <th></th>\n",
              "      <th>_c0</th>\n",
              "      <th>State</th>\n",
              "      <th>Country</th>\n",
              "      <th>Lat</th>\n",
              "      <th>Long</th>\n",
              "      <th>Date</th>\n",
              "      <th>Confirmed</th>\n",
              "      <th>Death</th>\n",
              "      <th>Recovered</th>\n",
              "      <th>state_cleaned</th>\n",
              "      <th>City</th>\n",
              "    </tr>\n",
              "  </thead>\n",
              "  <tbody>\n",
              "    <tr>\n",
              "      <th>0</th>\n",
              "      <td>0</td>\n",
              "      <td>None</td>\n",
              "      <td>Thailand</td>\n",
              "      <td>15.0000</td>\n",
              "      <td>101.0000</td>\n",
              "      <td>2020-01-22</td>\n",
              "      <td>2</td>\n",
              "      <td>0</td>\n",
              "      <td>0</td>\n",
              "      <td>Bangkok</td>\n",
              "      <td>None</td>\n",
              "    </tr>\n",
              "    <tr>\n",
              "      <th>1</th>\n",
              "      <td>1</td>\n",
              "      <td>None</td>\n",
              "      <td>Japan</td>\n",
              "      <td>36.0000</td>\n",
              "      <td>138.0000</td>\n",
              "      <td>2020-01-22</td>\n",
              "      <td>2</td>\n",
              "      <td>0</td>\n",
              "      <td>0</td>\n",
              "      <td>Hiraide</td>\n",
              "      <td>None</td>\n",
              "    </tr>\n",
              "    <tr>\n",
              "      <th>2</th>\n",
              "      <td>2</td>\n",
              "      <td>None</td>\n",
              "      <td>Singapore</td>\n",
              "      <td>1.2833</td>\n",
              "      <td>103.8333</td>\n",
              "      <td>2020-01-22</td>\n",
              "      <td>0</td>\n",
              "      <td>0</td>\n",
              "      <td>0</td>\n",
              "      <td>Singapore</td>\n",
              "      <td>None</td>\n",
              "    </tr>\n",
              "    <tr>\n",
              "      <th>3</th>\n",
              "      <td>3</td>\n",
              "      <td>None</td>\n",
              "      <td>Nepal</td>\n",
              "      <td>28.1667</td>\n",
              "      <td>84.2500</td>\n",
              "      <td>2020-01-22</td>\n",
              "      <td>0</td>\n",
              "      <td>0</td>\n",
              "      <td>0</td>\n",
              "      <td>Kathmandu</td>\n",
              "      <td>None</td>\n",
              "    </tr>\n",
              "    <tr>\n",
              "      <th>4</th>\n",
              "      <td>4</td>\n",
              "      <td>None</td>\n",
              "      <td>Malaysia</td>\n",
              "      <td>2.5000</td>\n",
              "      <td>112.5000</td>\n",
              "      <td>2020-01-22</td>\n",
              "      <td>0</td>\n",
              "      <td>0</td>\n",
              "      <td>0</td>\n",
              "      <td>Sarawak</td>\n",
              "      <td>None</td>\n",
              "    </tr>\n",
              "  </tbody>\n",
              "</table>\n",
              "</div>"
            ],
            "text/plain": [
              "   _c0 State    Country      Lat      Long        Date  Confirmed  Death  Recovered state_cleaned  City\n",
              "0    0  None   Thailand  15.0000  101.0000  2020-01-22          2      0          0       Bangkok  None\n",
              "1    1  None      Japan  36.0000  138.0000  2020-01-22          2      0          0       Hiraide  None\n",
              "2    2  None  Singapore   1.2833  103.8333  2020-01-22          0      0          0     Singapore  None\n",
              "3    3  None      Nepal  28.1667   84.2500  2020-01-22          0      0          0     Kathmandu  None\n",
              "4    4  None   Malaysia   2.5000  112.5000  2020-01-22          0      0          0       Sarawak  None"
            ]
          },
          "metadata": {
            "tags": []
          },
          "execution_count": 9
        }
      ]
    },
    {
      "cell_type": "code",
      "metadata": {
        "id": "CcCjA3SKKlxm",
        "colab_type": "code",
        "colab": {
          "base_uri": "https://localhost:8080/",
          "height": 1000
        },
        "outputId": "d3454d34-0842-4059-dbea-dffcd55ecbe2"
      },
      "source": [
        "df['state_cleaned'].value_counts()"
      ],
      "execution_count": 11,
      "outputs": [
        {
          "output_type": "execute_result",
          "data": {
            "text/plain": [
              "California                      1593\n",
              "Florida                          826\n",
              "Washington                       767\n",
              "Colorado                         590\n",
              "Georgia                          590\n",
              "Oregon                           590\n",
              "New Jersey                       531\n",
              "Indiana                          531\n",
              "Texas                            472\n",
              "New York                         472\n",
              "Massachusetts                    413\n",
              "Virginia                         413\n",
              "Pennsylvania                     413\n",
              "South Dakota                     413\n",
              "Tennessee                        295\n",
              "Minnesota                        295\n",
              "Illinois                         295\n",
              "South Carolina                   295\n",
              "Arizona                          236\n",
              "Kentucky                         236\n",
              "Utah                             236\n",
              "Maryland                         236\n",
              "North Carolina                   236\n",
              "Iowa                             177\n",
              "New Hampshire                    177\n",
              "Nevada                           177\n",
              "Nebraska                         177\n",
              "Ohio                             177\n",
              "Wisconsin                        177\n",
              "Connecticut                      177\n",
              "Louisiana                        177\n",
              "Michigan                         177\n",
              "New Mexico                       177\n",
              "Hawaii                           118\n",
              "Oklahoma                         118\n",
              "Kansas                           118\n",
              "Vermont                          118\n",
              "Delaware                         118\n",
              "Kasai                            118\n",
              "Missouri                         118\n",
              "Diamond Princess                 118\n",
              "Grand Princess                   118\n",
              "Rhode Island                     118\n",
              "Bangkok                           59\n",
              "Hiraide                           59\n",
              "Sarawak                           59\n",
              "Brussels                          59\n",
              "Singapore                         59\n",
              "British Columbia                  59\n",
              "Helsinki                          59\n",
              "Cairo                             59\n",
              "Kuwait City                       59\n",
              "Imereti                           59\n",
              "Kathmandu                         59\n",
              "New South Wales                   59\n",
              "Queensland                        59\n",
              "Abu Dhabi                         59\n",
              "Rome                              59\n",
              "From Diamond Princess             59\n",
              "Fallujah                          59\n",
              "Timokten                          59\n",
              "Vienna                            59\n",
              "Fournas                           59\n",
              "Jibert                            59\n",
              "Skagafjörður                      59\n",
              "Abuja                             59\n",
              "Monaco                            59\n",
              "Victoria                          59\n",
              "Phnom Penh                        59\n",
              "Sri Jayawardenapura Kotte         59\n",
              "Amman                             59\n",
              "Manila                            59\n",
              "Stockholm                         59\n",
              "Toledo                            59\n",
              "Bratislava                        59\n",
              "Zahlé                             59\n",
              "Muscat                            59\n",
              "Baghran                           59\n",
              "Vatican City                      59\n",
              "Jezerane                          59\n",
              "Jerusalem                         59\n",
              "Balochistan                       59\n",
              "Guangdong                         59\n",
              "Vojnica                           59\n",
              "Tallinn                           59\n",
              "San Marino                        59\n",
              "Vilnius                           59\n",
              "Zacatecas                         59\n",
              "Western Australia                 59\n",
              "Dublin                            59\n",
              "Doha                              59\n",
              "Quito                             59\n",
              "Yerevan                           59\n",
              "Jakarta                           59\n",
              "Andorra la Vella                  59\n",
              "LV-5015                           59\n",
              "Riyadh                            59\n",
              "Berlin                            59\n",
              "Kiev                              59\n",
              "erdészet                          59\n",
              "Vaduz                             59\n",
              "New Delhi                         59\n",
              "Ljubljana                         59\n",
              "Trongsa                           59\n",
              "Cundinamarca                      59\n",
              "South Australia                   59\n",
              "Sotouboua                         59\n",
              "Mgarr                             59\n",
              "Sofia                             59\n",
              "Dhaka                             59\n",
              "Ontario                           59\n",
              "Quebec                            59\n",
              "Nicosia                           59\n",
              "Manama                            59\n",
              "Burd                              59\n",
              "Panama City                       59\n",
              "Arkansas                          59\n",
              "Bern                              59\n",
              "Montana                           59\n",
              "West Virginia                     59\n",
              "Hubei                             59\n",
              "Brasília                          59\n",
              "Henan                             59\n",
              "Zhejiang                          59\n",
              "Anhui                             59\n",
              "Hol                               59\n",
              "Chongqing                         59\n",
              "Heilongjiang                      59\n",
              "Beijing                           59\n",
              "Minsk                             59\n",
              "Guangxi                           59\n",
              "Yunnan                            59\n",
              "Guizhou                           59\n",
              "Wellington                        59\n",
              "Hong Kong                         59\n",
              "Jilin                             59\n",
              "Xinjiang                          59\n",
              "Luxembourg                        59\n",
              "Hanoi                             59\n",
              "Qinghai                           59\n",
              "Chisinau                          59\n",
              "Agjabadi                          59\n",
              "Gualaco                           59\n",
              "Yamasá                            59\n",
              "Cote d'Ivoire                     59\n",
              "Lisbon                            59\n",
              "Gibraltar                         59\n",
              "Tasmania                          59\n",
              "Australian Capital Territory      59\n",
              "Rabat                             59\n",
              "Manitoba                          59\n",
              "Tambacounda                       59\n",
              "Buenos Aires                      59\n",
              "Maule                             59\n",
              "Montevideo                        59\n",
              "Puerto Rico                       59\n",
              "Cascade                           59\n",
              "Northern Territory                59\n",
              "Lolo-Bouenguidi                   59\n",
              "Warsaw                            59\n",
              "Tunis                             59\n",
              "Sarajevo                          59\n",
              "Guam                              59\n",
              "Pretoria                          59\n",
              "Ippy                              59\n",
              "Yaounde                           59\n",
              "Netherlands                       59\n",
              "San José                          59\n",
              "Lima                              59\n",
              "Maršić                            59\n",
              "Virgin Islands                    59\n",
              "Reunion                           59\n",
              "E80                               59\n",
              "Martinique                        59\n",
              "Lusaka                            59\n",
              "Malé                              59\n",
              "Nassau                            59\n",
              "Asunción                          59\n",
              "Borkou                            59\n",
              "Alberta                           59\n",
              "Miarinarivo                       59\n",
              "E852                              59\n",
              "Sint Maarten                      59\n",
              "Rambai                            59\n",
              "District of Columbia              59\n",
              "Kadiogo                           59\n",
              "Alaska                            59\n",
              "Idaho                             59\n",
              "Maine                             59\n",
              "Mississippi                       59\n",
              "North Dakota                      59\n",
              "Wyoming                           59\n",
              "Tehran                            59\n",
              "Gyeongsangbuk-do                  59\n",
              "France                            59\n",
              "Hunan                             59\n",
              "Jiangxi                           59\n",
              "Shandong                          59\n",
              "Jiangsu                           59\n",
              "Sichuan                           59\n",
              "Denmark                           59\n",
              "Shanghai                          59\n",
              "Hebei                             59\n",
              "Fujian                            59\n",
              "Shaanxi                           59\n",
              "Hainan                            59\n",
              "Tianjin                           59\n",
              "Shanxi                            59\n",
              "Gansu                             59\n",
              "Liaoning                          59\n",
              "Czechia                           59\n",
              "Inner Mongolia                    59\n",
              "Ningxia                           59\n",
              "Taiwan                            59\n",
              "Russia                            59\n",
              "Macau                             59\n",
              "Bolivia                           59\n",
              "Faroe Islands                     59\n",
              "St Martin                         59\n",
              "Channel Islands                   59\n",
              "New Brunswick                     59\n",
              "Tibet                             59\n",
              "Saint Barthelemy                  59\n",
              "Summerfield                       59\n",
              "Ankara                            59\n",
              "Washington, D.C.                  59\n",
              "Havana                            59\n",
              "Georgetown                        59\n",
              "United Kingdom                    59\n",
              "Astana                            59\n",
              "French Polynesia                  59\n",
              "Saskatchewan                      59\n",
              "Addis Ababa                       59\n",
              "Bara                              59\n",
              "Conakry                           59\n",
              "Tumbura                           59\n",
              "St. John's                        59\n",
              "Alabama                           59\n",
              "Pru                               59\n",
              "Windhoek                          59\n",
              "Port of Spain                     59\n",
              "Bolívar                           59\n",
              "Eswatini                          59\n",
              "Chisec                            59\n",
              "Arlit                             59\n",
              "Kigali                            59\n",
              "Castries                          59\n",
              "Kingstown                         59\n",
              "Amatopo                           59\n",
              "French Guiana                     59\n",
              "Pristina                          59\n",
              "Newfoundland and Labrador         59\n",
              "Prince Edward Island              59\n",
              "Mbini                             59\n",
              "Mayotte                           59\n",
              "Tashkent                          59\n",
              "Nova Scotia                       59\n",
              "Guadeloupe                        59\n",
              "Porto-Novo                        59\n",
              "Monrovia                          59\n",
              "Curacao                           59\n",
              "Dhuusamareeb                      59\n",
              "Nkonko                            59\n",
              "Cayman Islands                    59\n",
              "Bridgetown                        59\n",
              "Bishkek                           59\n",
              "Port Louis                        59\n",
              "Aruba                             59\n",
              "Djibouti                          59\n",
              "Gambia, The                       59\n",
              "Montserrat                        59\n",
              "Greenland                         59\n",
              "New Caledonia                     59\n",
              "Bermuda                           59\n",
              "San Salvador                      59\n",
              "Navosa                            59\n",
              "Matagalpa                         59\n",
              "Durocher                          59\n",
              "Sautari                           59\n",
              "Cabo Verde                        59\n",
              "Tchirozerine                      59\n",
              "Port Moresby                      59\n",
              "Isle of Man                       59\n",
              "Harare                            59\n",
              "Name: state_cleaned, dtype: int64"
            ]
          },
          "metadata": {
            "tags": []
          },
          "execution_count": 11
        }
      ]
    },
    {
      "cell_type": "code",
      "metadata": {
        "id": "Errh12F_K2f1",
        "colab_type": "code",
        "colab": {}
      },
      "source": [
        ""
      ],
      "execution_count": null,
      "outputs": []
    }
  ]
}